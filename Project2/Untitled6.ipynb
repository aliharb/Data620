{
 "cells": [
  {
   "cell_type": "markdown",
   "metadata": {},
   "source": [
    "# Project 2\n",
    "\n",
    "Ali Harb"
   ]
  },
  {
   "cell_type": "code",
   "execution_count": 345,
   "metadata": {},
   "outputs": [],
   "source": [
    "import pandas as pd\n",
    "import pymysql\n",
    "import matplotlib.pyplot as plt\n",
    "import networkx as nx\n",
    "from networkx.algorithms import bipartite as bi\n",
    "import operator \n",
    "from operator import itemgetter\n",
    "import numpy as np\n",
    "import community\n",
    "import itertools\n",
    "from multiprocessing import Pool\n",
    "import matplotlib.colors as mcolors\n",
    "import nltk\n",
    "from nltk.sentiment.vader import SentimentIntensityAnalyzer\n",
    "from nltk.corpus import stopwords\n",
    "from nltk.classify import SklearnClassifier\n",
    "import wordcloud\n",
    "from wordcloud import WordCloud,STOPWORDS\n",
    "from sklearn.model_selection import train_test_split\n",
    "from subprocess import check_output\n",
    "import csv"
   ]
  },
  {
   "cell_type": "markdown",
   "metadata": {},
   "source": [
    "+ Identify a large 2-node network dataset—you can start with a dataset in a repository.\n",
    "+ Your data should meet the criteria that it consists of ties between and not within two (or more) distinct groups. Reduce the size of the network using a method such as the island method described in chapter 4 of social network analysis.\n",
    "+ What can you infer about each of the distinct groups?"
   ]
  },
  {
   "cell_type": "code",
   "execution_count": 279,
   "metadata": {},
   "outputs": [],
   "source": [
    "sql_con = pymysql.connect(host='104.196.212.179', port=3306, \n",
    "                          user='root', passwd='data620pw',\n",
    "                          db='reddit')"
   ]
  },
  {
   "cell_type": "code",
   "execution_count": 280,
   "metadata": {},
   "outputs": [],
   "source": [
    "reddit = pd.read_sql('SELECT DISTINCT author, responder, COUNT(1) as weight FROM comments '\n",
    "                     'GROUP BY author, responder '\n",
    "                     'HAVING author<>\"[deleted]\" AND responder<>\"[deleted]\";', con=sql_con)\n",
    "\n",
    "reddit_comment = pd.read_sql('SELECT * from comments;', con=sql_con)\n"
   ]
  },
  {
   "cell_type": "code",
   "execution_count": 281,
   "metadata": {},
   "outputs": [],
   "source": [
    "users = pd.read_sql('SELECT username, betweenness, degree FROM users', con=sql_con)\n",
    " \n",
    "sql_con.close()\n"
   ]
  },
  {
   "cell_type": "code",
   "execution_count": 282,
   "metadata": {},
   "outputs": [
    {
     "data": {
      "text/html": [
       "<div>\n",
       "<style scoped>\n",
       "    .dataframe tbody tr th:only-of-type {\n",
       "        vertical-align: middle;\n",
       "    }\n",
       "\n",
       "    .dataframe tbody tr th {\n",
       "        vertical-align: top;\n",
       "    }\n",
       "\n",
       "    .dataframe thead th {\n",
       "        text-align: right;\n",
       "    }\n",
       "</style>\n",
       "<table border=\"1\" class=\"dataframe\">\n",
       "  <thead>\n",
       "    <tr style=\"text-align: right;\">\n",
       "      <th></th>\n",
       "      <th>author</th>\n",
       "      <th>responder</th>\n",
       "      <th>weight</th>\n",
       "    </tr>\n",
       "  </thead>\n",
       "  <tbody>\n",
       "    <tr>\n",
       "      <th>0</th>\n",
       "      <td>---DevilsAdvocate---</td>\n",
       "      <td>dannybtw</td>\n",
       "      <td>1</td>\n",
       "    </tr>\n",
       "    <tr>\n",
       "      <th>1</th>\n",
       "      <td>---DevilsAdvocate---</td>\n",
       "      <td>ThisFreaknGuy</td>\n",
       "      <td>2</td>\n",
       "    </tr>\n",
       "    <tr>\n",
       "      <th>2</th>\n",
       "      <td>-Covariance</td>\n",
       "      <td>DomeSlave</td>\n",
       "      <td>1</td>\n",
       "    </tr>\n",
       "  </tbody>\n",
       "</table>\n",
       "</div>"
      ],
      "text/plain": [
       "                 author      responder  weight\n",
       "0  ---DevilsAdvocate---       dannybtw       1\n",
       "1  ---DevilsAdvocate---  ThisFreaknGuy       2\n",
       "2           -Covariance      DomeSlave       1"
      ]
     },
     "execution_count": 282,
     "metadata": {},
     "output_type": "execute_result"
    }
   ],
   "source": [
    "reddit.loc[0:2]"
   ]
  },
  {
   "cell_type": "code",
   "execution_count": 283,
   "metadata": {},
   "outputs": [],
   "source": [
    "G = nx.Graph()\n",
    "\n",
    "# Add nodes\n",
    "nodes = set(reddit.loc[:, \"author\"])\n",
    "authorNodes=nodes\n",
    "nodes.union(set(reddit.loc[:, \"responder\"]))\n",
    "nodes = list(nodes)\n",
    "G.add_nodes_from(nodes)\n",
    "edges=[tuple(x) for x in reddit.loc[:, \"author\":\"responder\"].values]\n",
    "G.add_weighted_edges_from([tuple(x) for x in reddit.values])"
   ]
  },
  {
   "cell_type": "code",
   "execution_count": 284,
   "metadata": {},
   "outputs": [],
   "source": [
    "def trim_edges(g, weight = 1):\n",
    "    g2 = nx.Graph()\n",
    "    for f, to, edata in g.edges(data=True):\n",
    "        if edata['weight'] > weight:\n",
    "            g2.add_edge(f,to,weight=edata['weight']) \n",
    "    return g2"
   ]
  },
  {
   "cell_type": "code",
   "execution_count": 285,
   "metadata": {},
   "outputs": [],
   "source": [
    "def island_method(g, iterations = 5):\n",
    "    weights = [edata['weight'] for f,to,edata in g.edges(data=True)]\n",
    "    mn=int(min(weights))\n",
    "    mx=int(max(weights))\n",
    "    step = int((mx-mn)/iterations)\n",
    "    return [[threshold, trim_edges(g, threshold)] for threshold in range(mn,mx,step)]"
   ]
  },
  {
   "cell_type": "code",
   "execution_count": 286,
   "metadata": {},
   "outputs": [
    {
     "name": "stdout",
     "output_type": "stream",
     "text": [
      "Name: \n",
      "Type: Graph\n",
      "Number of nodes: 10233\n",
      "Number of edges: 15756\n",
      "Average degree:   3.0794\n"
     ]
    }
   ],
   "source": [
    "print(nx.info(G))"
   ]
  },
  {
   "cell_type": "code",
   "execution_count": 287,
   "metadata": {},
   "outputs": [
    {
     "name": "stdout",
     "output_type": "stream",
     "text": [
      "False\n"
     ]
    }
   ],
   "source": [
    "print(nx.is_connected(G))"
   ]
  },
  {
   "cell_type": "code",
   "execution_count": 288,
   "metadata": {},
   "outputs": [
    {
     "data": {
      "text/plain": [
       "129"
      ]
     },
     "execution_count": 288,
     "metadata": {},
     "output_type": "execute_result"
    }
   ],
   "source": [
    "len(list(nx.connected_component_subgraphs(G)))"
   ]
  },
  {
   "cell_type": "code",
   "execution_count": 289,
   "metadata": {},
   "outputs": [
    {
     "name": "stdout",
     "output_type": "stream",
     "text": [
      "[9928, 3, 9, 5, 3, 3, 3, 5, 5, 5, 3, 3, 3, 6, 3, 3, 3, 3, 3, 3, 4, 5, 3, 3, 3, 3, 4, 3, 3, 3]\n"
     ]
    }
   ],
   "source": [
    "print([len(c) for c in nx.connected_component_subgraphs(G)\n",
    "if len(c) > 2])"
   ]
  },
  {
   "cell_type": "code",
   "execution_count": 292,
   "metadata": {},
   "outputs": [],
   "source": [
    "islands=island_method(G,11)"
   ]
  },
  {
   "cell_type": "code",
   "execution_count": 293,
   "metadata": {},
   "outputs": [
    {
     "data": {
      "text/plain": [
       "[[1, <networkx.classes.graph.Graph at 0xee00e80>],\n",
       " [2, <networkx.classes.graph.Graph at 0xee00780>],\n",
       " [3, <networkx.classes.graph.Graph at 0xee00fd0>],\n",
       " [4, <networkx.classes.graph.Graph at 0xee00240>],\n",
       " [5, <networkx.classes.graph.Graph at 0xee00550>],\n",
       " [6, <networkx.classes.graph.Graph at 0xee009e8>],\n",
       " [7, <networkx.classes.graph.Graph at 0xee00c18>],\n",
       " [8, <networkx.classes.graph.Graph at 0xee00f60>],\n",
       " [9, <networkx.classes.graph.Graph at 0xee00e10>],\n",
       " [10, <networkx.classes.graph.Graph at 0xee00a90>],\n",
       " [11, <networkx.classes.graph.Graph at 0xee006d8>],\n",
       " [12, <networkx.classes.graph.Graph at 0xee00320>],\n",
       " [13, <networkx.classes.graph.Graph at 0xee00518>],\n",
       " [14, <networkx.classes.graph.Graph at 0xee005c0>],\n",
       " [15, <networkx.classes.graph.Graph at 0xee000f0>],\n",
       " [16, <networkx.classes.graph.Graph at 0xee00080>],\n",
       " [17, <networkx.classes.graph.Graph at 0xee00630>],\n",
       " [18, <networkx.classes.graph.Graph at 0xee00048>],\n",
       " [19, <networkx.classes.graph.Graph at 0xf9bb320>],\n",
       " [20, <networkx.classes.graph.Graph at 0xf9bb240>]]"
      ]
     },
     "execution_count": 293,
     "metadata": {},
     "output_type": "execute_result"
    }
   ],
   "source": [
    "islands"
   ]
  },
  {
   "cell_type": "markdown",
   "metadata": {},
   "source": [
    "Applying the island method"
   ]
  },
  {
   "cell_type": "code",
   "execution_count": 295,
   "metadata": {},
   "outputs": [
    {
     "name": "stdout",
     "output_type": "stream",
     "text": [
      "1 1315 302\n",
      "2 492 164\n",
      "3 256 98\n",
      "4 130 52\n",
      "5 73 34\n",
      "6 46 21\n",
      "7 36 17\n",
      "8 21 10\n",
      "9 13 6\n",
      "10 11 5\n",
      "11 11 5\n",
      "12 11 5\n",
      "13 8 4\n",
      "14 6 3\n",
      "15 5 3\n",
      "16 5 3\n",
      "17 3 2\n",
      "18 3 2\n",
      "19 3 2\n",
      "20 2 1\n"
     ]
    }
   ],
   "source": [
    "for i in islands:\n",
    "    print(i[0],len(i[1]),len(list(nx.connected_component_subgraphs(i[1]))))"
   ]
  },
  {
   "cell_type": "code",
   "execution_count": 272,
   "metadata": {},
   "outputs": [
    {
     "data": {
      "text/plain": [
       "1"
      ]
     },
     "execution_count": 272,
     "metadata": {},
     "output_type": "execute_result"
    }
   ],
   "source": [
    "len(list(nx.connected_component_subgraphs(islands[19][1])))"
   ]
  },
  {
   "cell_type": "code",
   "execution_count": 173,
   "metadata": {},
   "outputs": [],
   "source": [
    "pos=nx.spring_layout(islands[19][1])"
   ]
  },
  {
   "cell_type": "code",
   "execution_count": 273,
   "metadata": {},
   "outputs": [
    {
     "data": {
      "text/plain": [
       "(-0.6850467214133726,\n",
       " 0.6850467214133725,\n",
       " -1.107154318058363,\n",
       " 1.1071543180583625)"
      ]
     },
     "execution_count": 273,
     "metadata": {},
     "output_type": "execute_result"
    },
    {
     "data": {
      "image/png": "[encoded data removed]",
      "text/plain": [
       "<Figure size 720x720 with 1 Axes>"
      ]
     },
     "metadata": {},
     "output_type": "display_data"
    }
   ],
   "source": [
    "fig = plt.gcf()\n",
    "fig.set_size_inches(10,10)\n",
    "nx.draw_networkx(islands[19][1],pos,node_size=50,label=False)\n",
    "plt.axis('off')"
   ]
  },
  {
   "cell_type": "markdown",
   "metadata": {},
   "source": [
    "The reddit and reviewer network has over 10233 nodes, but the network is split into 129 component subgraphs. The largest component is 9928. \n",
    "After applying the island methods there are it divides the graph into 20 islands. Every one of these island has its own small cliques except for the last one."
   ]
  },
  {
   "cell_type": "code",
   "execution_count": 325,
   "metadata": {},
   "outputs": [],
   "source": [
    "M = bi.projected_graph(G, authorsnx)"
   ]
  },
  {
   "cell_type": "code",
   "execution_count": 326,
   "metadata": {},
   "outputs": [
    {
     "data": {
      "text/plain": [
       "189"
      ]
     },
     "execution_count": 326,
     "metadata": {},
     "output_type": "execute_result"
    }
   ],
   "source": [
    "len(list(nx.connected_component_subgraphs(M)))"
   ]
  },
  {
   "cell_type": "code",
   "execution_count": 327,
   "metadata": {},
   "outputs": [
    {
     "data": {
      "text/plain": [
       "[9928]"
      ]
     },
     "execution_count": 327,
     "metadata": {},
     "output_type": "execute_result"
    }
   ],
   "source": [
    "[len(c) for c in nx.connected_component_subgraphs(M)\n",
    "if len(c) > 5]"
   ]
  },
  {
   "cell_type": "code",
   "execution_count": 328,
   "metadata": {},
   "outputs": [],
   "source": [
    "authorsnx=bi.weighted_projected_graph(G, M, ratio=False)"
   ]
  },
  {
   "cell_type": "code",
   "execution_count": 329,
   "metadata": {},
   "outputs": [
    {
     "data": {
      "text/plain": [
       "10168"
      ]
     },
     "execution_count": 329,
     "metadata": {},
     "output_type": "execute_result"
    }
   ],
   "source": [
    "len(authorsnx.nodes())"
   ]
  },
  {
   "cell_type": "code",
   "execution_count": 330,
   "metadata": {},
   "outputs": [
    {
     "data": {
      "text/plain": [
       "189"
      ]
     },
     "execution_count": 330,
     "metadata": {},
     "output_type": "execute_result"
    }
   ],
   "source": [
    "len(list(nx.connected_component_subgraphs(authorsnx)))"
   ]
  },
  {
   "cell_type": "code",
   "execution_count": 331,
   "metadata": {},
   "outputs": [
    {
     "data": {
      "text/plain": [
       "155"
      ]
     },
     "execution_count": 331,
     "metadata": {},
     "output_type": "execute_result"
    }
   ],
   "source": [
    "len([len(c) for c in nx.connected_component_subgraphs(authorsnx)\n",
    "if len(c) < 2])"
   ]
  },
  {
   "cell_type": "code",
   "execution_count": 332,
   "metadata": {},
   "outputs": [
    {
     "name": "stdout",
     "output_type": "stream",
     "text": [
      "[9928, 2, 5, 4, 2, 2, 2, 4, 5, 4, 2, 2, 2, 2, 2, 2, 3, 2, 3, 3, 2, 2, 2, 4, 2, 2, 4, 2, 2, 2, 2, 2, 2, 2]\n"
     ]
    }
   ],
   "source": [
    "print([len(c) for c in nx.connected_component_subgraphs(authorsnx)\n",
    "if len(c) > 1])"
   ]
  },
  {
   "cell_type": "code",
   "execution_count": 333,
   "metadata": {},
   "outputs": [],
   "source": [
    "islands=island_method(authorsnx,11)"
   ]
  },
  {
   "cell_type": "code",
   "execution_count": 334,
   "metadata": {},
   "outputs": [
    {
     "name": "stdout",
     "output_type": "stream",
     "text": [
      "1 2184 94\n",
      "2 451 24\n",
      "3 164 17\n",
      "4 80 13\n",
      "5 48 10\n",
      "6 34 8\n",
      "7 14 6\n",
      "8 7 3\n",
      "9 2 1\n",
      "10 2 1\n",
      "11 2 1\n"
     ]
    }
   ],
   "source": [
    "for i in islands:\n",
    "    print(i[0],len(i[1]),len(list(nx.connected_component_subgraphs(i[1]))))"
   ]
  },
  {
   "cell_type": "code",
   "execution_count": 335,
   "metadata": {},
   "outputs": [],
   "source": [
    "t=nx.DiGraph(islands[2][1])"
   ]
  },
  {
   "cell_type": "code",
   "execution_count": 336,
   "metadata": {},
   "outputs": [],
   "source": [
    "census=nx.triadic_census(t)"
   ]
  },
  {
   "cell_type": "code",
   "execution_count": 337,
   "metadata": {},
   "outputs": [
    {
     "data": {
      "text/plain": [
       "{'003': 680305,\n",
       " '012': 0,\n",
       " '021C': 0,\n",
       " '021D': 0,\n",
       " '021U': 0,\n",
       " '030C': 0,\n",
       " '030T': 0,\n",
       " '102': 39647,\n",
       " '111D': 0,\n",
       " '111U': 0,\n",
       " '120C': 0,\n",
       " '120D': 0,\n",
       " '120U': 0,\n",
       " '201': 1667,\n",
       " '210': 0,\n",
       " '300': 145}"
      ]
     },
     "execution_count": 337,
     "metadata": {},
     "output_type": "execute_result"
    }
   ],
   "source": [
    "census"
   ]
  },
  {
   "cell_type": "code",
   "execution_count": null,
   "metadata": {},
   "outputs": [],
   "source": []
  },
  {
   "cell_type": "code",
   "execution_count": 338,
   "metadata": {},
   "outputs": [],
   "source": [
    "cliques = list(nx.find_cliques(islands[2][1]))"
   ]
  },
  {
   "cell_type": "code",
   "execution_count": 343,
   "metadata": {},
   "outputs": [
    {
     "data": {
      "text/plain": [
       "[['SerBearistanSelmy', 'rgonzal'],\n",
       " ['lameskiana', '0xD153A53'],\n",
       " ['Deggyy', 'Geosaurusrex'],\n",
       " ['shinyfuntimes', 'hawkish25'],\n",
       " ['Portalman4', 'JohnMiltonJamesJoyce'],\n",
       " ['Portalman4', 'USOutpost31'],\n",
       " ['Howie_The_Lord', 'BillMaher4President'],\n",
       " ['barassmonkey17', 'redditminus'],\n",
       " ['barassmonkey17', 'Veeron'],\n",
       " ['barassmonkey17', 'MrConfucius']]"
      ]
     },
     "execution_count": 343,
     "metadata": {},
     "output_type": "execute_result"
    }
   ],
   "source": [
    "cliques[0:10]"
   ]
  },
  {
   "cell_type": "code",
   "execution_count": null,
   "metadata": {},
   "outputs": [],
   "source": []
  },
  {
   "cell_type": "code",
   "execution_count": 342,
   "metadata": {},
   "outputs": [
    {
     "data": {
      "text/plain": [
       "0.20694576593720265"
      ]
     },
     "execution_count": 342,
     "metadata": {},
     "output_type": "execute_result"
    }
   ],
   "source": [
    "nx.transitivity(t)"
   ]
  }
 ],
 "metadata": {
  "kernelspec": {
   "display_name": "Python 3",
   "language": "python",
   "name": "python3"
  },
  "language_info": {
   "codemirror_mode": {
    "name": "ipython",
    "version": 3
   },
   "file_extension": ".py",
   "mimetype": "text/x-python",
   "name": "python",
   "nbconvert_exporter": "python",
   "pygments_lexer": "ipython3",
   "version": "3.6.4"
  }
 },
 "nbformat": 4,
 "nbformat_minor": 2
}

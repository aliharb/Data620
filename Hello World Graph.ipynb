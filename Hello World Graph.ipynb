{
 "cells": [
  {
   "cell_type": "markdown",
   "metadata": {},
   "source": [
    "# Hello World Graph\n",
    "## Ali Harb\n",
    "\n",
    "The objective of this assignment is to create a basic graph using the NetworkX package and Python. \n",
    "\n",
    "Import the required libraries into the environment "
   ]
  },
  {
   "cell_type": "code",
   "execution_count": 51,
   "metadata": {
    "extensions": {
     "jupyter_dashboards": {
      "version": 1,
      "views": {
       "grid_default": {
        "hidden": true
       },
       "report_default": {}
      }
     }
    }
   },
   "outputs": [],
   "source": [
    "import networkx as nx\n",
    "import matplotlib.pyplot as plt"
   ]
  },
  {
   "cell_type": "markdown",
   "metadata": {},
   "source": [
    "Initialize the graph. "
   ]
  },
  {
   "cell_type": "code",
   "execution_count": 52,
   "metadata": {
    "extensions": {
     "jupyter_dashboards": {
      "version": 1,
      "views": {
       "grid_default": {
        "hidden": true
       },
       "report_default": {}
      }
     }
    }
   },
   "outputs": [],
   "source": [
    "G = nx.Graph()"
   ]
  },
  {
   "cell_type": "markdown",
   "metadata": {},
   "source": [
    "Create the nodes and add them to the graph."
   ]
  },
  {
   "cell_type": "code",
   "execution_count": 53,
   "metadata": {
    "extensions": {
     "jupyter_dashboards": {
      "version": 1,
      "views": {
       "grid_default": {
        "hidden": true
       },
       "report_default": {}
      }
     }
    }
   },
   "outputs": [],
   "source": [
    "nodes = ['Ali', 'Hadee', 'Carol', 'Jalal', \n",
    "        'Eddy', 'Fernando', 'Heather', 'Akhil', 'Jane']\n",
    "G.add_nodes_from(nodes)"
   ]
  },
  {
   "cell_type": "markdown",
   "metadata": {},
   "source": [
    "Add the edge pairs to the graph and select positions."
   ]
  },
  {
   "cell_type": "code",
   "execution_count": 54,
   "metadata": {
    "extensions": {
     "jupyter_dashboards": {
      "version": 1,
      "views": {
       "grid_default": {
        "hidden": true
       },
       "report_default": {}
      }
     }
    }
   },
   "outputs": [],
   "source": [
    "edges = [('Ali', 'Hadee'),\n",
    "         ('Ali', 'Carol'),\n",
    "         ('Ali', 'Jalal'),\n",
    "         ('Ali', 'Fernando'),\n",
    "         ('Hadee', 'Jalal'),\n",
    "         ('Hadee', 'Garth'),\n",
    "         ('Hadee', 'Eddy'),\n",
    "         ('Carol', 'Fernando'),\n",
    "         ('Carol', 'Jalal'),\n",
    "         ('Eddy', 'Jalal'),\n",
    "         ('Eddy', 'Garth'),\n",
    "         ('Jalal', 'Fernando'),\n",
    "         ('Jalal', 'Garth'),\n",
    "         ('Fernando','Garth'),\n",
    "         ('Heather', 'Fernando'),\n",
    "         ('Heather', 'Garth'),\n",
    "         ('Heather', 'Akhil'),\n",
    "         ('Akhil','Jane' )\n",
    "        ]\n",
    "G.add_edges_from(edges)\n",
    "\n",
    "pos={'Ali':(0,1),\n",
    "     'Hadee':(0,-1),\n",
    "     'Carol':(1,2),\n",
    "     'Jalal':(1,0),\n",
    "     'Eddy':(1,-2),\n",
    "     'Akhil':(4,0),\n",
    "     'Garth':(2,-1),\n",
    "     'Jane':(5,0),\n",
    "     'Fernando':(2,1),\n",
    "     'Heather':(3,0)}\n"
   ]
  },
  {
   "cell_type": "markdown",
   "metadata": {},
   "source": [
    "Let’s observe the sum of the edge weights adjacent to the each node."
   ]
  },
  {
   "cell_type": "code",
   "execution_count": 55,
   "metadata": {
    "extensions": {
     "jupyter_dashboards": {
      "version": 1,
      "views": {
       "grid_default": {
        "col": 0,
        "height": 4,
        "hidden": false,
        "row": 0,
        "width": 12
       },
       "report_default": {}
      }
     }
    }
   },
   "outputs": [
    {
     "data": {
      "text/plain": [
       "DegreeView({'Ali': 4, 'Hadee': 4, 'Carol': 3, 'Jalal': 6, 'Eddy': 3, 'Fernando': 5, 'Heather': 3, 'Akhil': 2, 'Jane': 1, 'Garth': 5})"
      ]
     },
     "execution_count": 55,
     "metadata": {},
     "output_type": "execute_result"
    }
   ],
   "source": [
    "nx.degree(G)"
   ]
  },
  {
   "cell_type": "markdown",
   "metadata": {},
   "source": [
    "Draw and plot the graph "
   ]
  },
  {
   "cell_type": "code",
   "execution_count": 56,
   "metadata": {
    "extensions": {
     "jupyter_dashboards": {
      "version": 1,
      "views": {
       "grid_default": {
        "col": 0,
        "height": 12,
        "hidden": false,
        "row": 4,
        "width": 12
       },
       "report_default": {}
      }
     }
    }
   },
   "outputs": [
    {
     "data": {
      "image/png": "[encoded data removed]",
      "text/plain": [
       "<matplotlib.figure.Figure at 0xaa1da20>"
      ]
     },
     "metadata": {},
     "output_type": "display_data"
    }
   ],
   "source": [
    "nx.draw(G,pos, with_labels=True, font_weight='bold')\n",
    "plt.show()"
   ]
  }
 ],
 "metadata": {
  "extensions": {
   "jupyter_dashboards": {
    "activeView": "grid_default",
    "version": 1,
    "views": {
     "grid_default": {
      "cellMargin": 10,
      "defaultCellHeight": 20,
      "maxColumns": 12,
      "name": "grid",
      "type": "grid"
     },
     "report_default": {
      "name": "report",
      "type": "report"
     }
    }
   }
  },
  "kernelspec": {
   "display_name": "Python 3",
   "language": "python",
   "name": "python3"
  },
  "language_info": {
   "codemirror_mode": {
    "name": "ipython",
    "version": 3
   },
   "file_extension": ".py",
   "mimetype": "text/x-python",
   "name": "python",
   "nbconvert_exporter": "python",
   "pygments_lexer": "ipython3",
   "version": "3.6.4"
  }
 },
 "nbformat": 4,
 "nbformat_minor": 2
}

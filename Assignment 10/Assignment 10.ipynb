{
 "cells": [
  {
   "cell_type": "markdown",
   "metadata": {},
   "source": [
    "# Project  4\n",
    "\n",
    "## Ali Harb\n"
   ]
  },
  {
   "cell_type": "markdown",
   "metadata": {},
   "source": [
    "Your assignment in Project 4 is to answer either 6.10 exercise 3 or 6.10 exercise 4 from Natural Language Processing with Python.¶"
   ]
  },
  {
   "cell_type": "markdown",
   "metadata": {},
   "source": [
    "## Library\n",
    "\n",
    "Headers used to perform the sentiments and the network analysis"
   ]
  },
  {
   "cell_type": "code",
   "execution_count": 57,
   "metadata": {},
   "outputs": [],
   "source": [
    "import nltk.classify.util\n",
    "from nltk.classify import NaiveBayesClassifier\n",
    "from nltk.corpus import movie_reviews"
   ]
  },
  {
   "cell_type": "markdown",
   "metadata": {},
   "source": [
    "Sorted map function using iteritive method"
   ]
  },
  {
   "cell_type": "code",
   "execution_count": 58,
   "metadata": {},
   "outputs": [],
   "source": [
    "def extract_features(word_list):\n",
    "    return dict([(word, True) for word in word_list])"
   ]
  },
  {
   "cell_type": "markdown",
   "metadata": {},
   "source": [
    "## Laod Data\n",
    "\n",
    "Get the positive and negative data from the movies reviews dataset"
   ]
  },
  {
   "cell_type": "code",
   "execution_count": 59,
   "metadata": {},
   "outputs": [],
   "source": [
    "positive_fileids = movie_reviews.fileids('pos')\n",
    "negative_fileids = movie_reviews.fileids('neg')"
   ]
  },
  {
   "cell_type": "markdown",
   "metadata": {},
   "source": [
    "Let’s separate the newelty creeated fields  into positive and negative reviews to pass them to the training and testing dataset."
   ]
  },
  {
   "cell_type": "code",
   "execution_count": 60,
   "metadata": {},
   "outputs": [],
   "source": [
    "features_positive = [(extract_features(movie_reviews.words(fileids=[f])),'Positive') for f in positive_fileids]\n",
    "features_negative = [(extract_features(movie_reviews.words(fileids=[f])), 'Negative') for f in negative_fileids]"
   ]
  },
  {
   "cell_type": "markdown",
   "metadata": {},
   "source": [
    "Devide the dataset into trainging and testing datasets with 80% train and 20% test."
   ]
  },
  {
   "cell_type": "code",
   "execution_count": 61,
   "metadata": {},
   "outputs": [],
   "source": [
    "# Split the data into train and test (80/20)\n",
    "threshold_factor = 0.8\n",
    "threshold_positive = int(threshold_factor * len(features_positive))\n",
    "threshold_negative = int(threshold_factor * len(features_negative))"
   ]
  },
  {
   "cell_type": "markdown",
   "metadata": {},
   "source": [
    "Extract the training and testing features"
   ]
  },
  {
   "cell_type": "code",
   "execution_count": 62,
   "metadata": {},
   "outputs": [
    {
     "name": "stdout",
     "output_type": "stream",
     "text": [
      "\n",
      "Number of training datapoints: 1600\n",
      "Number of test datapoints: 400\n"
     ]
    }
   ],
   "source": [
    "features_train = features_positive[:threshold_positive] + features_negative[:threshold_negative]\n",
    "features_test = features_positive[threshold_positive:] + features_negative[threshold_negative:]  \n",
    "print(\"\\nNumber of training datapoints:\", len(features_train))\n",
    "print(\"Number of test datapoints:\", len(features_test))"
   ]
  },
  {
   "cell_type": "markdown",
   "metadata": {},
   "source": [
    "Create a Naive Bayes classifier of the giveing traininig feature object."
   ]
  },
  {
   "cell_type": "code",
   "execution_count": 63,
   "metadata": {},
   "outputs": [
    {
     "name": "stdout",
     "output_type": "stream",
     "text": [
      "\n",
      "Accuracy of the classifier: 0.735\n"
     ]
    }
   ],
   "source": [
    "classifier = NaiveBayesClassifier.train(features_train)\n",
    "print(\"\\nAccuracy of the classifier:\", nltk.classify.util.accuracy(classifier, features_test))"
   ]
  },
  {
   "cell_type": "markdown",
   "metadata": {},
   "source": [
    "Display the top most informative words "
   ]
  },
  {
   "cell_type": "code",
   "execution_count": 64,
   "metadata": {},
   "outputs": [
    {
     "name": "stdout",
     "output_type": "stream",
     "text": [
      "\n",
      "Top 30 most informative words:\n",
      "Most Informative Features\n",
      "             outstanding = True           Positi : Negati =     13.9 : 1.0\n",
      "               insulting = True           Negati : Positi =     13.7 : 1.0\n",
      "              vulnerable = True           Positi : Negati =     13.0 : 1.0\n",
      "               ludicrous = True           Negati : Positi =     12.6 : 1.0\n",
      "             uninvolving = True           Negati : Positi =     12.3 : 1.0\n",
      "                  avoids = True           Positi : Negati =     11.7 : 1.0\n",
      "              astounding = True           Positi : Negati =     11.7 : 1.0\n",
      "             fascination = True           Positi : Negati =     11.0 : 1.0\n",
      "               animators = True           Positi : Negati =     10.3 : 1.0\n",
      "                  seagal = True           Negati : Positi =     10.3 : 1.0\n",
      "                  darker = True           Positi : Negati =     10.3 : 1.0\n",
      "                  symbol = True           Positi : Negati =     10.3 : 1.0\n",
      "               affecting = True           Positi : Negati =     10.3 : 1.0\n",
      "                    anna = True           Positi : Negati =     10.3 : 1.0\n",
      "                 idiotic = True           Negati : Positi =      9.8 : 1.0\n",
      "               represent = True           Positi : Negati =      9.0 : 1.0\n",
      "                  annual = True           Positi : Negati =      9.0 : 1.0\n",
      "                bothered = True           Negati : Positi =      9.0 : 1.0\n",
      "               illogical = True           Negati : Positi =      9.0 : 1.0\n",
      "                  hatred = True           Positi : Negati =      9.0 : 1.0\n",
      "                   mulan = True           Positi : Negati =      9.0 : 1.0\n",
      "                palpable = True           Positi : Negati =      9.0 : 1.0\n",
      "                 offbeat = True           Positi : Negati =      9.0 : 1.0\n",
      "               strengths = True           Positi : Negati =      9.0 : 1.0\n",
      "                fairness = True           Negati : Positi =      8.3 : 1.0\n",
      "                   naval = True           Positi : Negati =      8.3 : 1.0\n",
      "                   moody = True           Positi : Negati =      8.3 : 1.0\n",
      "                  hudson = True           Negati : Positi =      8.3 : 1.0\n",
      "                seamless = True           Positi : Negati =      8.3 : 1.0\n",
      "                 studies = True           Positi : Negati =      8.3 : 1.0\n"
     ]
    }
   ],
   "source": [
    "print(\"\\nTop 30 most informative words:\")\n",
    "classifier.show_most_informative_features(30)"
   ]
  },
  {
   "cell_type": "markdown",
   "metadata": {},
   "source": [
    "Test the classifier with few input sentances "
   ]
  },
  {
   "cell_type": "code",
   "execution_count": 65,
   "metadata": {},
   "outputs": [],
   "source": [
    "input_reviews = [\n",
    "    \"It is an amazing movie\", \n",
    "    \"This is a dull movie. I would never recommend it to anyone.\",\n",
    "    \"it is an outstanding movie\"\n",
    "    \"The cinematography is pretty great in this movie\", \n",
    "    \"The direction was terrible and the story was all over the place\",\n",
    "    \"The location of cinematography is close to my house\",\n",
    "    \"unbelievable movie\",\n",
    "    \"Best movie i've ever seen\",\n",
    "   ]"
   ]
  },
  {
   "cell_type": "code",
   "execution_count": 66,
   "metadata": {},
   "outputs": [
    {
     "name": "stdout",
     "output_type": "stream",
     "text": [
      "\n",
      "Predictions:\n",
      "\n",
      "Review: It is an amazing movie\n",
      "Predicted sentiment: Positive\n",
      "Probability: 0.61\n",
      "\n",
      "Review: This is a dull movie. I would never recommend it to anyone.\n",
      "Predicted sentiment: Negative\n",
      "Probability: 0.77\n",
      "\n",
      "Review: it is an outstanding movieThe cinematography is pretty great in this movie\n",
      "Predicted sentiment: Positive\n",
      "Probability: 0.97\n",
      "\n",
      "Review: The direction was terrible and the story was all over the place\n",
      "Predicted sentiment: Negative\n",
      "Probability: 0.63\n",
      "\n",
      "Review: The location of cinematography is close to my house\n",
      "Predicted sentiment: Positive\n",
      "Probability: 0.54\n",
      "\n",
      "Review: unbelievable movie\n",
      "Predicted sentiment: Negative\n",
      "Probability: 0.7\n",
      "\n",
      "Review: Best movie i've ever seen\n",
      "Predicted sentiment: Positive\n",
      "Probability: 0.59\n"
     ]
    }
   ],
   "source": [
    "print(\"\\nPredictions:\")\n",
    "for review in input_reviews:\n",
    "    print(\"\\nReview:\", review)\n",
    "    probdist = classifier.prob_classify(extract_features(review.split()))\n",
    "    pred_sentiment = probdist.max()\n",
    "    print(\"Predicted sentiment:\", pred_sentiment)\n",
    "    print(\"Probability:\", round(probdist.prob(pred_sentiment), 2))"
   ]
  },
  {
   "cell_type": "markdown",
   "metadata": {},
   "source": [
    "Can you explain why these particular features are informative? Do you find any of them surprising?\n",
    "\n",
    "It is informative because it tells us what words are being used to indicate strong reactions. If you look at the top informative words, you can see that we have words such as “outstanding” to indicate positive reviews and words such as “insulting” to indicate negative reviews.\n",
    "\n",
    "Some of the words prediction are incorrect such \"moody\" being positive while it should be a negative. The word \"represent\", \"uninvolving”, “symbol\", for example wouldn’t tell about the negativity or positivity as informative word."
   ]
  },
  {
   "cell_type": "code",
   "execution_count": null,
   "metadata": {},
   "outputs": [],
   "source": []
  }
 ],
 "metadata": {
  "kernelspec": {
   "display_name": "Python 3",
   "language": "python",
   "name": "python3"
  },
  "language_info": {
   "codemirror_mode": {
    "name": "ipython",
    "version": 3
   },
   "file_extension": ".py",
   "mimetype": "text/x-python",
   "name": "python",
   "nbconvert_exporter": "python",
   "pygments_lexer": "ipython3",
   "version": "3.6.4"
  }
 },
 "nbformat": 4,
 "nbformat_minor": 2
}
